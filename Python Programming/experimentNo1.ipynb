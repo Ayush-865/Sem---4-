{
 "cells": [
  {
   "cell_type": "markdown",
   "id": "3af47189",
   "metadata": {},
   "source": [
    "<div class=\"alert alert-block alert-danger\">\n",
    "<center><b>Experiment No 1</b></center>\n",
    "</div>"
   ]
  },
  {
   "cell_type": "markdown",
   "id": "bf138e18",
   "metadata": {},
   "source": [
    "<div class=\"alert alert-block alert-success\">\n",
    "    <h3>Name: Ayush Vinod Upadhyay</h3>\n",
    "    <h3>RollNo: I025</h3>\n",
    "    <h3>Div: I1-1</h3>\n",
    "    <h3>COURSE NAME: Programing Laboratory 2 (Python)</h3>\n",
    "</div>"
   ]
  },
  {
   "cell_type": "markdown",
   "id": "d5a6607a",
   "metadata": {},
   "source": [
    "<div class=\"alert alert-block alert-warning\">\n",
    "<b>1. Write a python program to take the input from the user for the first name and last name and concatenate both the strings. Also add comments to the program</b>\n",
    "</div>"
   ]
  },
  {
   "cell_type": "code",
   "execution_count": 2,
   "id": "1eafed7c",
   "metadata": {},
   "outputs": [
    {
     "name": "stdout",
     "output_type": "stream",
     "text": [
      "Please enter your first name: Ayush\n",
      "Please enter your last name: Upadhyay\n",
      "Your full name is: Ayush Upadhyay\n"
     ]
    }
   ],
   "source": [
    "# This program takes first name and last name as input from the user\n",
    "\n",
    "# Ask for first name\n",
    "first_name = input(\"Please enter your first name: \")\n",
    "\n",
    "# Ask for last name\n",
    "last_name = input(\"Please enter your last name: \")\n",
    "\n",
    "# Concatenate first name and last name\n",
    "full_name = first_name + \" \" + last_name\n",
    "\n",
    "# Print the full name\n",
    "print(\"Your full name is: \" + full_name)"
   ]
  },
  {
   "cell_type": "markdown",
   "id": "a01d9843",
   "metadata": {},
   "source": [
    "<div class=\"alert alert-block alert-warning\">\n",
    "    <b>2. Write a program to evaluate the polynomial shown here:3x3 - 5x2 + 6 for x = 2.55.</b>\n",
    "</div>"
   ]
  },
  {
   "cell_type": "code",
   "execution_count": 3,
   "id": "ea2889e6",
   "metadata": {},
   "outputs": [
    {
     "name": "stdout",
     "output_type": "stream",
     "text": [
      "The result of the polynomial 3x^3 - 5x^2 + 6 for x = 2.55 is: 23.231625\n"
     ]
    }
   ],
   "source": [
    "x = 2.55\n",
    "polynomial = 3*x**3 - 5*x**2 + 6\n",
    "print(\"The result of the polynomial 3x^3 - 5x^2 + 6 for x = 2.55 is:\", polynomial)\n"
   ]
  },
  {
   "cell_type": "markdown",
   "id": "89f344a3",
   "metadata": {},
   "source": [
    "<div class=\"alert alert-block alert-warning\">\n",
    "    <b>3. Write a program to output middle three characters of an input string.</b>\n",
    "</div>"
   ]
  },
  {
   "cell_type": "code",
   "execution_count": 7,
   "id": "32078b6b",
   "metadata": {},
   "outputs": [
    {
     "name": "stdout",
     "output_type": "stream",
     "text": [
      "yus\n"
     ]
    }
   ],
   "source": [
    "def middle_three_chars(input_string):\n",
    "    middle_index = len(input_string) // 2\n",
    "    return input_string[middle_index - 1 : middle_index + 2]\n",
    "\n",
    "print(middle_three_chars(\"Ayush\"))\n"
   ]
  },
  {
   "cell_type": "markdown",
   "id": "c81f234c",
   "metadata": {},
   "source": [
    "<div class=\"alert alert-block alert-warning\">\n",
    "    <b>4. Arrange string characters such that lowercase letters should come first. </br> For example: str1=’PyTHon” then output should be “yonPTH”</b>\n",
    "</div>"
   ]
  },
  {
   "cell_type": "code",
   "execution_count": 11,
   "id": "998bffb8",
   "metadata": {},
   "outputs": [
    {
     "name": "stdout",
     "output_type": "stream",
     "text": [
      "yonPTH\n"
     ]
    }
   ],
   "source": [
    "def arrange_string(input_string):\n",
    "    lower_chars = [char for char in input_string if char.islower()]\n",
    "    upper_chars = [char for char in input_string if char.isupper()]\n",
    "    return ''.join(lower_chars + upper_chars)\n",
    "\n",
    "print(arrange_string(\"PyTHon\"))"
   ]
  },
  {
   "cell_type": "markdown",
   "id": "45c40c57",
   "metadata": {},
   "source": [
    "<div class=\"alert alert-block alert-warning\">\n",
    "    <b>5. Count all letters, digits, and special symbols from a given string.</b>\n",
    "</div>"
   ]
  },
  {
   "cell_type": "code",
   "execution_count": 13,
   "id": "c2b4579a",
   "metadata": {},
   "outputs": [
    {
     "name": "stdout",
     "output_type": "stream",
     "text": [
      "Letters: 12, Digits: 0, Special Symbols: 2\n"
     ]
    }
   ],
   "source": [
    "def count_chars(input_string):\n",
    "    letters = sum(c.isalpha() for c in input_string)\n",
    "    digits = sum(c.isdigit() for c in input_string)\n",
    "    special_symbols = len(input_string) - letters - digits\n",
    "    return letters, digits, special_symbols\n",
    "\n",
    "letters, digits, special_symbols = count_chars(\"@YUSHupadhyay!\")\n",
    "print(f\"Letters: {letters}, Digits: {digits}, Special Symbols: {special_symbols}\")"
   ]
  },
  {
   "cell_type": "markdown",
   "id": "068e53e8",
   "metadata": {},
   "source": [
    "<div class=\"alert alert-block alert-warning\">\n",
    "    <b>6. Write a program to count occurrences of all characters within a string.</b>\n",
    "</div>"
   ]
  },
  {
   "cell_type": "code",
   "execution_count": 16,
   "id": "98f6318c",
   "metadata": {},
   "outputs": [
    {
     "name": "stdout",
     "output_type": "stream",
     "text": [
      "'A': 1\n",
      "'y': 3\n",
      "'u': 1\n",
      "'s': 1\n",
      "'h': 2\n",
      "' ': 1\n",
      "'U': 1\n",
      "'p': 1\n",
      "'a': 2\n",
      "'d': 1\n"
     ]
    }
   ],
   "source": [
    "def count_occurrences(input_string):\n",
    "    char_counts = {}\n",
    "    for char in input_string:\n",
    "        if char in char_counts:\n",
    "            char_counts[char] += 1\n",
    "        else:\n",
    "            char_counts[char] = 1\n",
    "    return char_counts\n",
    "\n",
    "# Test the function\n",
    "char_counts = count_occurrences(\"Ayush Upadhyay\")\n",
    "for char, count in char_counts.items():\n",
    "    print(f\"'{char}': {count}\")\n"
   ]
  },
  {
   "cell_type": "markdown",
   "id": "d320c44e",
   "metadata": {},
   "source": [
    "<div class=\"alert alert-block alert-warning\">\n",
    "    <b>7. Write a program to find the last position of a substring “Rama” in a given string For e.g. \"Mary always stood first in class. Mary now works at Google.\" The expected outcome is “The last position of Mary starts at index 34”</b>\n",
    "</div>"
   ]
  },
  {
   "cell_type": "code",
   "execution_count": 17,
   "id": "a310c6b4",
   "metadata": {},
   "outputs": [
    {
     "name": "stdout",
     "output_type": "stream",
     "text": [
      "The last position of 'Mary' starts at index 34\n"
     ]
    }
   ],
   "source": [
    "def find_last_position(input_string, substring):\n",
    "    last_position = input_string.rfind(substring)\n",
    "    return f\"The last position of '{substring}' starts at index {last_position}\"\n",
    "\n",
    "print(find_last_position(\"Mary always stood first in class. Mary now works at Google.\", \"Mary\"))"
   ]
  },
  {
   "cell_type": "markdown",
   "id": "89be73bd",
   "metadata": {},
   "source": [
    "<div class=\"alert alert-block alert-warning\">\n",
    "    <b>8. Removal all characters from a string except integers</b>\n",
    "</div>"
   ]
  },
  {
   "cell_type": "code",
   "execution_count": 19,
   "id": "1d0cbb59",
   "metadata": {},
   "outputs": [
    {
     "name": "stdout",
     "output_type": "stream",
     "text": [
      "865\n"
     ]
    }
   ],
   "source": [
    "def remove_non_integer_chars(s):\n",
    "    return ''.join(c for c in s if c.isdigit())\n",
    "\n",
    "s = \"Ayush865\"\n",
    "print(remove_non_integer_chars(s))  # Output: 123456"
   ]
  },
  {
   "cell_type": "markdown",
   "id": "47e04b14",
   "metadata": {},
   "source": [
    "<div class=\"alert alert-block alert-warning\">\n",
    "    <b>9. Replace each special symbol with # in the following string: I/p string:Mary @always &stood firl̥st in %class O/P String: Mary #always #stood first in #class</b>\n",
    "</div>"
   ]
  },
  {
   "cell_type": "code",
   "execution_count": 22,
   "id": "aa660563",
   "metadata": {},
   "outputs": [
    {
     "name": "stdout",
     "output_type": "stream",
     "text": [
      "Mary #always #stood first in #class\n"
     ]
    }
   ],
   "source": [
    "import re\n",
    "\n",
    "def replace_special_symbols(s):\n",
    "    return re.sub('[^A-Za-z0-9 ]', '#', s)\n",
    "\n",
    "s = \"Mary @always &stood first in %class\"\n",
    "print(replace_special_symbols(s))"
   ]
  },
  {
   "cell_type": "markdown",
   "id": "34da4d74",
   "metadata": {},
   "source": [
    "<div class=\"alert alert-block alert-warning\">\n",
    "    <b>10. Write a program that takes a sentence as an input parameter where each word in the sentence is separated by a space. Then replace each blank with a hyphen and then print the modified sentence.</b>\n",
    "</div>"
   ]
  },
  {
   "cell_type": "code",
   "execution_count": 24,
   "id": "ef8ad969",
   "metadata": {
    "scrolled": true
   },
   "outputs": [
    {
     "name": "stdout",
     "output_type": "stream",
     "text": [
      "This-is-a-test-sentence\n"
     ]
    }
   ],
   "source": [
    "def replace_space_with_hyphen(s):\n",
    "    return s.replace(' ', '-')\n",
    "\n",
    "s = \"This is a test sentence\"\n",
    "print(replace_space_with_hyphen(s))"
   ]
  },
  {
   "cell_type": "code",
   "execution_count": null,
   "id": "4adc5b93",
   "metadata": {},
   "outputs": [],
   "source": []
  }
 ],
 "metadata": {
  "kernelspec": {
   "display_name": "Python 3",
   "language": "python",
   "name": "python3"
  },
  "language_info": {
   "codemirror_mode": {
    "name": "ipython",
    "version": 3
   },
   "file_extension": ".py",
   "mimetype": "text/x-python",
   "name": "python",
   "nbconvert_exporter": "python",
   "pygments_lexer": "ipython3",
   "version": "3.8.8"
  }
 },
 "nbformat": 4,
 "nbformat_minor": 5
}
