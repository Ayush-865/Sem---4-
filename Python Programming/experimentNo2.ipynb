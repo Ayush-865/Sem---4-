{
 "cells": [
  {
   "cell_type": "markdown",
   "id": "3e3e339e",
   "metadata": {},
   "source": [
    "<b>1. Write a Python program to select an item randomly from a list.</b>"
   ]
  },
  {
   "cell_type": "code",
   "execution_count": 7,
   "id": "e12af235",
   "metadata": {},
   "outputs": [
    {
     "name": "stdout",
     "output_type": "stream",
     "text": [
      "Printing random element from array:  3\n"
     ]
    }
   ],
   "source": [
    "import random\n",
    "arr=[1,2,3,4,5]\n",
    "print(\"Printing random element from array: \", arr[random.randint(0,5)])"
   ]
  },
  {
   "cell_type": "markdown",
   "id": "6f8cf8e9",
   "metadata": {},
   "source": [
    "<b>2. Write a Python program to count the elements in a list until an element is a tuple</b>"
   ]
  },
  {
   "cell_type": "code",
   "execution_count": 38,
   "id": "9bf4aa61",
   "metadata": {},
   "outputs": [
    {
     "name": "stdout",
     "output_type": "stream",
     "text": [
      "3\n"
     ]
    }
   ],
   "source": [
    "arr=(1,2,3,(1,))\n",
    "count=0\n",
    "for i in arr:\n",
    "    if(type(i)==type((1,))):\n",
    "        break;\n",
    "    else:\n",
    "        count+=1\n",
    "print(count)"
   ]
  },
  {
   "cell_type": "markdown",
   "id": "3609bfa6",
   "metadata": {},
   "source": [
    "<b>3. Create a dictionary of 5 countries with their currency details and display them</b>"
   ]
  },
  {
   "cell_type": "code",
   "execution_count": 49,
   "id": "6215754d",
   "metadata": {},
   "outputs": [
    {
     "name": "stdout",
     "output_type": "stream",
     "text": [
      "{'india': 'Rupee', 'USA': 'Dollar', 'U.K': 'Pound sterling', 'Germany': 'Euro', 'Japan': 'Yen'}\n"
     ]
    }
   ],
   "source": [
    "dict={\n",
    "    \"india\":\"Rupee\",\n",
    "    \"USA\":\"Dollar\",\n",
    "    \"U.K\":\"Pound sterling\",\n",
    "    \"Germany\":\"Euro\",\n",
    "    \"Japan\":\"Yen\"\n",
    "}\n",
    "print(dict)"
   ]
  },
  {
   "cell_type": "markdown",
   "id": "6b6e0caf",
   "metadata": {},
   "source": [
    "<b>4. Write a Python program to reverse a tuple.</b>"
   ]
  },
  {
   "cell_type": "code",
   "execution_count": 59,
   "id": "4c637af0",
   "metadata": {},
   "outputs": [
    {
     "name": "stdout",
     "output_type": "stream",
     "text": [
      "(5, 4, 3, 2, 1)\n"
     ]
    }
   ],
   "source": [
    "arr=(1,2,3,4,5)\n",
    "print(arr[::-1])"
   ]
  },
  {
   "cell_type": "markdown",
   "id": "0b2d17dc",
   "metadata": {},
   "source": [
    "<b>5. Create a Numpy array filled with all ones</b>"
   ]
  },
  {
   "cell_type": "code",
   "execution_count": 69,
   "id": "35934c75",
   "metadata": {},
   "outputs": [
    {
     "data": {
      "text/plain": [
       "numpy.ndarray"
      ]
     },
     "execution_count": 69,
     "metadata": {},
     "output_type": "execute_result"
    }
   ],
   "source": [
    "import numpy as np\n",
    "arr=np.array([])\n",
    "type(arr)"
   ]
  },
  {
   "cell_type": "markdown",
   "id": "41feb5dd",
   "metadata": {},
   "source": [
    "<b>6. Check whether a Numpy array contains a specified row</b>"
   ]
  },
  {
   "cell_type": "code",
   "execution_count": 75,
   "id": "42ff8fc1",
   "metadata": {},
   "outputs": [
    {
     "name": "stdout",
     "output_type": "stream",
     "text": [
      "True\n"
     ]
    },
    {
     "name": "stderr",
     "output_type": "stream",
     "text": [
      "<ipython-input-75-1b28e98699be>:2: VisibleDeprecationWarning: Creating an ndarray from ragged nested sequences (which is a list-or-tuple of lists-or-tuples-or ndarrays with different lengths or shapes) is deprecated. If you meant to do this, you must specify 'dtype=object' when creating the ndarray.\n",
      "  arr=np.array([[1],[1,2],[1,2,3],[1,2,3,4]])\n"
     ]
    }
   ],
   "source": [
    "import numpy as np\n",
    "arr=np.array([[1],[1,2],[1,2,3],[1,2,3,4]])\n",
    "\n",
    "for i in arr:\n",
    "    if(i==[1,2]):\n",
    "        print(True)"
   ]
  },
  {
   "cell_type": "markdown",
   "id": "c5e61996",
   "metadata": {},
   "source": [
    "<b>7. Compute mathematical operations on Array, Add & Multiply two matrices</b>"
   ]
  },
  {
   "cell_type": "code",
   "execution_count": 80,
   "id": "279cfc50",
   "metadata": {},
   "outputs": [
    {
     "name": "stdout",
     "output_type": "stream",
     "text": [
      "[[2 0]\n",
      " [0 2]] \n",
      "\n",
      "[[1 0]\n",
      " [0 1]]\n"
     ]
    }
   ],
   "source": [
    "import numpy as np\n",
    "arr=np.array([[1,0],[0,1]])\n",
    "arr1=np.array([[1,0],[0,1]])\n",
    "print(arr+arr1,\"\\n\")\n",
    "print(arr*arr1)"
   ]
  },
  {
   "cell_type": "markdown",
   "id": "0c6d7ac2",
   "metadata": {},
   "source": [
    "<b>8. Find the most frequent value in a NumPy array</b>"
   ]
  },
  {
   "cell_type": "code",
   "execution_count": 5,
   "id": "7cf97d08",
   "metadata": {},
   "outputs": [
    {
     "name": "stdout",
     "output_type": "stream",
     "text": [
      "1\n"
     ]
    }
   ],
   "source": [
    "import numpy as np\n",
    "arr=np.array([1,1,1,1,1,2,3,4,5])\n",
    "print(np.bincount(arr).argmax())"
   ]
  },
  {
   "cell_type": "markdown",
   "id": "25b5ff05",
   "metadata": {},
   "source": [
    "<b>9. Flatten a 2d numpy array into ld array</b>"
   ]
  },
  {
   "cell_type": "code",
   "execution_count": 8,
   "id": "a6b6750b",
   "metadata": {},
   "outputs": [
    {
     "name": "stdout",
     "output_type": "stream",
     "text": [
      "[list([1]) list([1, 2]) list([1, 2, 3]) list([1, 2, 3, 4])]\n"
     ]
    },
    {
     "name": "stderr",
     "output_type": "stream",
     "text": [
      "<ipython-input-8-34f15c819fa0>:2: VisibleDeprecationWarning: Creating an ndarray from ragged nested sequences (which is a list-or-tuple of lists-or-tuples-or ndarrays with different lengths or shapes) is deprecated. If you meant to do this, you must specify 'dtype=object' when creating the ndarray.\n",
      "  arr=np.array([[1],[1,2],[1,2,3],[1,2,3,4]])\n"
     ]
    }
   ],
   "source": [
    "import numpy as np\n",
    "arr=np.array([[1],[1,2],[1,2,3],[1,2,3,4]])\n",
    "print(arr.flatten())"
   ]
  },
  {
   "cell_type": "markdown",
   "id": "25e63e49",
   "metadata": {},
   "source": [
    "<b>10. Calculate the sum of all columns in a 2D NumPy array</b>"
   ]
  },
  {
   "cell_type": "code",
   "execution_count": 20,
   "id": "2f7b39f0",
   "metadata": {},
   "outputs": [
    {
     "name": "stdout",
     "output_type": "stream",
     "text": [
      "4 "
     ]
    },
    {
     "name": "stderr",
     "output_type": "stream",
     "text": [
      "<ipython-input-20-4a89e34a8764>:10: VisibleDeprecationWarning: Creating an ndarray from ragged nested sequences (which is a list-or-tuple of lists-or-tuples-or ndarrays with different lengths or shapes) is deprecated. If you meant to do this, you must specify 'dtype=object' when creating the ndarray.\n",
      "  arr=np.array([[1],[1,2],[1,2,3],[1,2,3,4]])\n"
     ]
    }
   ],
   "source": [
    "import numpy as np\n",
    "\n",
    "def colsum(arr, n, m):\n",
    "    for i in range(n):\n",
    "        su = 0;\n",
    "        for j in range(m):\n",
    "            su += arr[j][i]\n",
    "        print(su, end = \" \")  \n",
    "        \n",
    "arr=np.array([[1],[1,2],[1,2,3],[1,2,3,4]])\n",
    "colsum(arr,len(arr[0]), len(arr))"
   ]
  },
  {
   "cell_type": "markdown",
   "id": "559a71db",
   "metadata": {},
   "source": [
    "<b>11. Calculate the average, variance and standard deviation in Python using NumPy</b>"
   ]
  },
  {
   "cell_type": "code",
   "execution_count": 22,
   "id": "6ed4ec52",
   "metadata": {},
   "outputs": [
    {
     "name": "stdout",
     "output_type": "stream",
     "text": [
      "Average:  5.5\n",
      "Variance:  8.25\n",
      "Standard Deviation:  2.8722813232690143\n"
     ]
    }
   ],
   "source": [
    "import numpy as np\n",
    "arr=np.array([1,2,3,4,5,6,7,8,9,10])\n",
    "print(\"Average: \", np.average(arr))\n",
    "print(\"Variance: \", np.var(arr))\n",
    "print(\"Standard Deviation: \", np.std(arr))"
   ]
  },
  {
   "cell_type": "markdown",
   "id": "5ce6bdca",
   "metadata": {},
   "source": [
    "<b>12. Insert a space between characters of all the elements of a given NumPy array?</b>"
   ]
  },
  {
   "cell_type": "code",
   "execution_count": 45,
   "id": "4f2106c5",
   "metadata": {},
   "outputs": [
    {
     "name": "stdout",
     "output_type": "stream",
     "text": [
      "Printing the array after inserting space between the elements\n",
      "['a y u s h' 'a n i s h' 'b h a v e s h']\n"
     ]
    }
   ],
   "source": [
    "import numpy as np \n",
    "x = np.array([\"ayush\", \"anish\", \"bhavesh\"])\n",
    "r = np.char.join(' ', x)\n",
    "print(\"Printing the array after inserting space between the elements\") \n",
    "print(r) "
   ]
  },
  {
   "cell_type": "markdown",
   "id": "6bc1e3f2",
   "metadata": {},
   "source": [
    "<b>13. Sort the values in a matrix</b>"
   ]
  },
  {
   "cell_type": "code",
   "execution_count": 46,
   "id": "5ee110a3",
   "metadata": {},
   "outputs": [
    {
     "name": "stdout",
     "output_type": "stream",
     "text": [
      "[[ 1  4]\n",
      " [ 3 12]]\n"
     ]
    }
   ],
   "source": [
    "import numpy as np \n",
    "arr = np.matrix('[4, 1; 12, 3]') \n",
    "arr.sort() \n",
    "print(arr) "
   ]
  }
 ],
 "metadata": {
  "kernelspec": {
   "display_name": "Python 3",
   "language": "python",
   "name": "python3"
  },
  "language_info": {
   "codemirror_mode": {
    "name": "ipython",
    "version": 3
   },
   "file_extension": ".py",
   "mimetype": "text/x-python",
   "name": "python",
   "nbconvert_exporter": "python",
   "pygments_lexer": "ipython3",
   "version": "3.8.8"
  }
 },
 "nbformat": 4,
 "nbformat_minor": 5
}
