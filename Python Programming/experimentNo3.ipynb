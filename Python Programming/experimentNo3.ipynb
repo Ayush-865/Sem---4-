{
 "cells": [
  {
   "cell_type": "markdown",
   "id": "28220bc9",
   "metadata": {},
   "source": [
    "<b>1. Write Python code that asks:x1,x2,y1,y2 And Calculate the slope of the line slope=(y2-y1)/(x2-x1)\n",
    "    · If the slope is positive, print “positive slope”.\n",
    "    · If the slope is negative, print “negative slope”.\n",
    "    · If the slope is zero, print “horizontal line”.\n",
    "    · If the denominator is 0, print “vertical line”.</b>"
   ]
  },
  {
   "cell_type": "code",
   "execution_count": 7,
   "id": "7f156899",
   "metadata": {},
   "outputs": [
    {
     "name": "stdout",
     "output_type": "stream",
     "text": [
      "Enter value of x12\n",
      "Enter value of x22\n",
      "Enter value of y15\n",
      "Enter value of y210\n",
      "Error: division by zero. The denominator cannot be zero.\n"
     ]
    }
   ],
   "source": [
    "x1=int(input('Enter value of x1'))\n",
    "x2=int(input('Enter value of x2'))\n",
    "y1=int(input('Enter value of y1'))\n",
    "y2=int(input('Enter value of y2'))\n",
    "\n",
    "try:\n",
    "    slope=(y2-y1)/(x2-x1)\n",
    "    if(slope>0):\n",
    "        print('positive slope')\n",
    "    elif(slope<0):\n",
    "        print('negative slope')\n",
    "    else:\n",
    "        print('horizontal line')\n",
    "except ZeroDivisionError as e:\n",
    "    print(f\"Error: {e}. The denominator cannot be zero.\")"
   ]
  },
  {
   "cell_type": "markdown",
   "id": "130beff7",
   "metadata": {},
   "source": [
    "<b>2. Use a while loop to display a table of Celsius temperatures from 20 to 10 and their Fahrenheit equivalents. The formula for converting a temperature from Celsius to Fahrenheit is: F=(9/5)*C+32</b>"
   ]
  },
  {
   "cell_type": "code",
   "execution_count": 10,
   "id": "645cd98e",
   "metadata": {},
   "outputs": [
    {
     "name": "stdout",
     "output_type": "stream",
     "text": [
      "celsius:  10  ,  fahrenheit:  50.0\n",
      "celsius:  11  ,  fahrenheit:  51.8\n",
      "celsius:  12  ,  fahrenheit:  53.6\n",
      "celsius:  13  ,  fahrenheit:  55.400000000000006\n",
      "celsius:  14  ,  fahrenheit:  57.2\n",
      "celsius:  15  ,  fahrenheit:  59.0\n",
      "celsius:  16  ,  fahrenheit:  60.8\n",
      "celsius:  17  ,  fahrenheit:  62.6\n",
      "celsius:  18  ,  fahrenheit:  64.4\n",
      "celsius:  19  ,  fahrenheit:  66.2\n",
      "celsius:  20  ,  fahrenheit:  68.0\n"
     ]
    }
   ],
   "source": [
    "def celsiusToFahrenheit(c):\n",
    "    return (9/5)*c+32\n",
    "\n",
    "celsius=10\n",
    "while celsius<=20:\n",
    "    print('celsius: ',celsius,' , ','fahrenheit: ',celsiusToFahrenheit(celsius))\n",
    "    celsius+=1\n",
    "    "
   ]
  },
  {
   "cell_type": "markdown",
   "id": "40143a0e",
   "metadata": {},
   "source": [
    "<b>3. Write a Python program to create a list of integers with repetitions and display the list of pairs as follows: for each number n that appears in l, there should be exactly one pair (n,r) in the output list where r is the number of repetitions of n in l. The final list should be sorted in ascending order by r, the number of repetitions. For instance: INPUT: ([13,12,11,13,14,13,7,7,13,14,12]) OUTPUT: [(11, 1), (7, 2), (12, 2), (14, 2), (13, 4)]</b>"
   ]
  },
  {
   "cell_type": "code",
   "execution_count": 27,
   "id": "c46b5f72",
   "metadata": {
    "scrolled": true
   },
   "outputs": [
    {
     "name": "stdout",
     "output_type": "stream",
     "text": [
      "{11: 1, 12: 2, 14: 2, 7: 2, 13: 4}\n"
     ]
    }
   ],
   "source": [
    "import numpy as np\n",
    "input=[13,12,11,13,14,13,7,7,13,14,12]\n",
    "dict={}\n",
    "for i in input:\n",
    "    try:\n",
    "        dict[i] += 1\n",
    "    except KeyError:\n",
    "        dict[i] = 1\n",
    "\n",
    "keys = list(dict.keys())\n",
    "values = list(dict.values())\n",
    "sorted_value_index = np.argsort(values)\n",
    "sorted_dict = {keys[i]: values[i] for i in sorted_value_index}\n",
    "print(sorted_dict)"
   ]
  },
  {
   "cell_type": "markdown",
   "id": "88e42d29",
   "metadata": {},
   "source": [
    "<b>1. Write a function to check if a given number is prime or not</b>"
   ]
  },
  {
   "cell_type": "code",
   "execution_count": 33,
   "id": "aacec7e3",
   "metadata": {},
   "outputs": [
    {
     "name": "stdout",
     "output_type": "stream",
     "text": [
      "The number 7 is the prime number. \n"
     ]
    }
   ],
   "source": [
    "def is_prime(number):\n",
    "    if number > 1:\n",
    "        if (number %2 == 0 and number != 2) or (number %3 == 0 and number != 3 ) or(number %5 == 0 and number != 5):\n",
    "            print(f\"The number {number} is NOT the prime number. \")\n",
    "        else:\n",
    "            print(f\"The number {number} is the prime number. \")\n",
    "\n",
    "    else:\n",
    "        print(f\"The number {number} is NOT the prime number. \")\n",
    "        \n",
    "is_prime(7)"
   ]
  },
  {
   "cell_type": "markdown",
   "id": "c2799ff7",
   "metadata": {},
   "source": [
    "<b>2. Write a python program to calculate factorial value of numbers a) Without recursive function b) With Recursive function</b>"
   ]
  },
  {
   "cell_type": "code",
   "execution_count": 41,
   "id": "18f6a617",
   "metadata": {},
   "outputs": [
    {
     "data": {
      "text/plain": [
       "120"
      ]
     },
     "execution_count": 41,
     "metadata": {},
     "output_type": "execute_result"
    }
   ],
   "source": [
    "def recursiveFactorial(num):\n",
    "    if num==1 or num==0:\n",
    "        return 1\n",
    "    return num*recursiveFactorial(num-1)\n",
    "\n",
    "def nonRecursiveFactorial(num):\n",
    "    fact=1\n",
    "    for i in range(1,num+1):\n",
    "        fact*=i\n",
    "    return fact\n",
    "\n",
    "recursiveFactorial(5)\n",
    "nonRecursiveFactorial(5)"
   ]
  },
  {
   "cell_type": "markdown",
   "id": "35b90a67",
   "metadata": {},
   "source": [
    "<b>4. Write a program using filter() to filter out even numbers from a list.</b>"
   ]
  },
  {
   "cell_type": "code",
   "execution_count": 72,
   "id": "9ba3137e",
   "metadata": {},
   "outputs": [
    {
     "ename": "NameError",
     "evalue": "name 'x' is not defined",
     "output_type": "error",
     "traceback": [
      "\u001b[1;31m---------------------------------------------------------------------------\u001b[0m",
      "\u001b[1;31mNameError\u001b[0m                                 Traceback (most recent call last)",
      "\u001b[1;32m<ipython-input-72-ff93ffc6e560>\u001b[0m in \u001b[0;36m<module>\u001b[1;34m\u001b[0m\n\u001b[0;32m      9\u001b[0m \u001b[1;31m#     return True\u001b[0m\u001b[1;33m\u001b[0m\u001b[1;33m\u001b[0m\u001b[1;33m\u001b[0m\u001b[0m\n\u001b[0;32m     10\u001b[0m \u001b[1;33m\u001b[0m\u001b[0m\n\u001b[1;32m---> 11\u001b[1;33m \u001b[0madults\u001b[0m \u001b[1;33m=\u001b[0m \u001b[0mfilter\u001b[0m\u001b[1;33m(\u001b[0m\u001b[0mx\u001b[0m\u001b[1;33m%\u001b[0m\u001b[1;36m2\u001b[0m\u001b[1;33m!=\u001b[0m\u001b[1;36m0\u001b[0m\u001b[1;33m,\u001b[0m \u001b[0mages1\u001b[0m\u001b[1;33m)\u001b[0m\u001b[1;33m\u001b[0m\u001b[1;33m\u001b[0m\u001b[0m\n\u001b[0m",
      "\u001b[1;31mNameError\u001b[0m: name 'x' is not defined"
     ]
    }
   ],
   "source": [
    "ages = [5, 12, 17, 18, 24, 32]\n",
    "\n",
    "list = filter(x%2!=0, ages)\n",
    "print(list)"
   ]
  },
  {
   "cell_type": "code",
   "execution_count": 93,
   "id": "b584074e",
   "metadata": {},
   "outputs": [
    {
     "name": "stdout",
     "output_type": "stream",
     "text": [
      "12\n",
      "18\n",
      "24\n",
      "32\n"
     ]
    }
   ],
   "source": [
    "ages = [5, 12, 17, 18, 24, 32]\n",
    "\n",
    "def myFunc(x):\n",
    "  if x%2 != 0:\n",
    "    return False\n",
    "  else:\n",
    "    return True\n",
    "\n",
    "adults = filter(myFunc, ages)\n",
    "\n",
    "for x in adults:\n",
    "  print(x)"
   ]
  },
  {
   "cell_type": "markdown",
   "id": "993be337",
   "metadata": {},
   "source": [
    "<b>5. Write a program using map() to filter out even numbers from a list.</b>"
   ]
  },
  {
   "cell_type": "code",
   "execution_count": 101,
   "id": "24c25935",
   "metadata": {},
   "outputs": [
    {
     "name": "stdout",
     "output_type": "stream",
     "text": [
      "[2, 4]\n"
     ]
    }
   ],
   "source": [
    "def check(n):\n",
    "    return n if n%2==0 else None\n",
    "\n",
    "numbers = [1, 2, 3, 4]\n",
    "result = map(check, numbers)\n",
    "result = [i for i in result if i is not None]\n",
    "\n",
    "print(result)\n"
   ]
  },
  {
   "cell_type": "code",
   "execution_count": null,
   "id": "f3a9207b",
   "metadata": {},
   "outputs": [],
   "source": []
  }
 ],
 "metadata": {
  "kernelspec": {
   "display_name": "Python 3",
   "language": "python",
   "name": "python3"
  },
  "language_info": {
   "codemirror_mode": {
    "name": "ipython",
    "version": 3
   },
   "file_extension": ".py",
   "mimetype": "text/x-python",
   "name": "python",
   "nbconvert_exporter": "python",
   "pygments_lexer": "ipython3",
   "version": "3.8.8"
  }
 },
 "nbformat": 4,
 "nbformat_minor": 5
}
